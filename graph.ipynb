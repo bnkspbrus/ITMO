{
 "cells": [
  {
   "cell_type": "code",
   "id": "initial_id",
   "metadata": {
    "collapsed": true,
    "ExecuteTime": {
     "end_time": "2024-05-28T22:41:51.793264Z",
     "start_time": "2024-05-28T22:41:51.790281Z"
    }
   },
   "source": [
    "from kitti360scripts.helpers.ply import read_ply\n",
    "from kitti360scripts.helpers.project import CameraPerspective, CameraFisheye\n",
    "from kitti360scripts.helpers.labels import id2label\n",
    "from PIL import Image\n",
    "import matplotlib.pyplot as plt\n",
    "from tqdm import tqdm\n",
    "from torch.utils.data import Dataset, DataLoader\n",
    "import os\n",
    "import numpy as np\n",
    "import open3d\n",
    "import skimage.segmentation\n",
    "from scipy.ndimage import generic_filter"
   ],
   "outputs": [],
   "execution_count": 25
  },
  {
   "metadata": {
    "ExecuteTime": {
     "end_time": "2024-05-28T22:31:57.700224Z",
     "start_time": "2024-05-28T22:31:57.681373Z"
    }
   },
   "cell_type": "code",
   "source": [
    "ball = np.load('data_3d_semantics/2013_05_28_drive_0000_sync/ball/0000000009.npy')\n",
    "u, v, mask = [], [], []\n",
    "for i in range(6):\n",
    "    u_i = np.load(f'data_3d_projection/2013_05_28_drive_0000_sync/0000000009/u_{i}.npy')\n",
    "    v_i = np.load(f'data_3d_projection/2013_05_28_drive_0000_sync/0000000009/v_{i}.npy')\n",
    "    mask_i = np.load(f'data_3d_projection/2013_05_28_drive_0000_sync/0000000009/mask_{i}.npy')\n",
    "    u.append(u_i)\n",
    "    v.append(v_i)\n",
    "    mask.append(mask_i)"
   ],
   "id": "e0a752de12cb0341",
   "outputs": [],
   "execution_count": 2
  },
  {
   "metadata": {
    "ExecuteTime": {
     "end_time": "2024-05-28T22:31:57.737059Z",
     "start_time": "2024-05-28T22:31:57.701062Z"
    }
   },
   "cell_type": "code",
   "source": [
    "ply = read_ply('KITTI_360/data_3d_semantics/train/2013_05_28_drive_0000_sync/static/0000000002_0000000385.ply')\n",
    "points = np.array([ply['x'], ply['y'], ply['z']]).T\n",
    "colors = np.array([ply['red'], ply['green'], ply['blue']]).T"
   ],
   "id": "14206bc50b57e0ec",
   "outputs": [],
   "execution_count": 3
  },
  {
   "metadata": {
    "ExecuteTime": {
     "end_time": "2024-05-28T22:31:57.786198Z",
     "start_time": "2024-05-28T22:31:57.738822Z"
    }
   },
   "cell_type": "code",
   "source": [
    "points = points[ball]\n",
    "colors = colors[ball]"
   ],
   "id": "671320d4674c61b8",
   "outputs": [],
   "execution_count": 4
  },
  {
   "metadata": {
    "ExecuteTime": {
     "end_time": "2024-05-28T22:32:10.829244Z",
     "start_time": "2024-05-28T22:31:57.787056Z"
    }
   },
   "cell_type": "code",
   "source": [
    "# find 30 nearest neighbors for each point\n",
    "k = 30\n",
    "pcd = open3d.geometry.PointCloud()\n",
    "pcd.points = open3d.utility.Vector3dVector(points)\n",
    "pcd.colors = open3d.utility.Vector3dVector(colors/255)\n",
    "pcd_tree = open3d.geometry.KDTreeFlann(pcd)\n",
    "nn = np.apply_along_axis(lambda x: pcd_tree.search_knn_vector_3d(x, k)[1], 1, points)"
   ],
   "id": "c9c24c0188bdecbd",
   "outputs": [],
   "execution_count": 5
  },
  {
   "metadata": {
    "ExecuteTime": {
     "end_time": "2024-05-28T22:32:12.568149Z",
     "start_time": "2024-05-28T22:32:12.563845Z"
    }
   },
   "cell_type": "code",
   "source": "nn.shape, points.shape",
   "id": "c492e4c0093e9a5c",
   "outputs": [
    {
     "data": {
      "text/plain": [
       "((2082527, 30), (2082527, 3))"
      ]
     },
     "execution_count": 6,
     "metadata": {},
     "output_type": "execute_result"
    }
   ],
   "execution_count": 6
  },
  {
   "metadata": {
    "ExecuteTime": {
     "end_time": "2024-05-28T22:32:15.823957Z",
     "start_time": "2024-05-28T22:32:12.986177Z"
    }
   },
   "cell_type": "code",
   "source": [
    "pcd.estimate_normals()\n",
    "# pcd.orient_normals_to_align_with_direction()"
   ],
   "id": "b5b1940b5c90faa5",
   "outputs": [],
   "execution_count": 7
  },
  {
   "metadata": {
    "ExecuteTime": {
     "end_time": "2024-05-28T22:32:15.838172Z",
     "start_time": "2024-05-28T22:32:15.833746Z"
    }
   },
   "cell_type": "code",
   "source": "normals = np.asarray(pcd.normals)",
   "id": "ff88eebf3cc5311d",
   "outputs": [],
   "execution_count": 8
  },
  {
   "metadata": {
    "ExecuteTime": {
     "end_time": "2024-05-28T22:32:18.059571Z",
     "start_time": "2024-05-28T22:32:17.446100Z"
    }
   },
   "cell_type": "code",
   "source": "graph = points[nn]",
   "id": "d636802a40b8b431",
   "outputs": [],
   "execution_count": 9
  },
  {
   "metadata": {
    "ExecuteTime": {
     "end_time": "2024-05-28T22:32:18.063346Z",
     "start_time": "2024-05-28T22:32:18.060671Z"
    }
   },
   "cell_type": "code",
   "source": "graph.shape",
   "id": "cd6b2949a32b71fa",
   "outputs": [
    {
     "data": {
      "text/plain": [
       "(2082527, 30, 3)"
      ]
     },
     "execution_count": 10,
     "metadata": {},
     "output_type": "execute_result"
    }
   ],
   "execution_count": 10
  },
  {
   "metadata": {
    "ExecuteTime": {
     "end_time": "2024-05-28T22:32:22.584793Z",
     "start_time": "2024-05-28T22:32:21.540947Z"
    }
   },
   "cell_type": "code",
   "source": "d = np.linalg.norm(graph - points[:, None], axis=2)",
   "id": "9f9c7b059b557972",
   "outputs": [],
   "execution_count": 11
  },
  {
   "metadata": {
    "ExecuteTime": {
     "end_time": "2024-05-28T22:32:22.589424Z",
     "start_time": "2024-05-28T22:32:22.585982Z"
    }
   },
   "cell_type": "code",
   "source": "d[0]",
   "id": "bda4129ab84683b6",
   "outputs": [
    {
     "data": {
      "text/plain": [
       "array([0.        , 0.21951345, 0.25984392, 0.28300527, 0.28603223,\n",
       "       0.30613613, 0.3163502 , 0.34459704, 0.35724762, 0.37576213,\n",
       "       0.38553807, 0.4181843 , 0.43098176, 0.44537148, 0.4630081 ,\n",
       "       0.49300683, 0.5067244 , 0.5140843 , 0.53338224, 0.5602433 ,\n",
       "       0.581545  , 0.6036026 , 0.621105  , 0.62149227, 0.6282998 ,\n",
       "       0.629953  , 0.65664446, 0.67465156, 0.6773149 , 0.6812838 ],\n",
       "      dtype=float32)"
      ]
     },
     "execution_count": 12,
     "metadata": {},
     "output_type": "execute_result"
    }
   ],
   "execution_count": 12
  },
  {
   "metadata": {
    "ExecuteTime": {
     "end_time": "2024-05-28T22:32:28.449289Z",
     "start_time": "2024-05-28T22:32:23.928374Z"
    }
   },
   "cell_type": "code",
   "source": [
    "cosine = np.sum(normals[:, None] * normals[nn], axis=2) / (np.linalg.norm(normals[:, None], axis=2) * np.linalg.norm(normals[nn], axis=2))\n",
    "cosine = cosine.clip(-1, 1)\n",
    "angle = np.arccos(cosine)"
   ],
   "id": "a0b763401404c085",
   "outputs": [],
   "execution_count": 13
  },
  {
   "metadata": {
    "ExecuteTime": {
     "end_time": "2024-05-28T22:32:30.026523Z",
     "start_time": "2024-05-28T22:32:29.777237Z"
    }
   },
   "cell_type": "code",
   "source": "angle.max(), angle.min()",
   "id": "93552061b998b7b9",
   "outputs": [
    {
     "data": {
      "text/plain": [
       "(3.1415888043859335, 0.0)"
      ]
     },
     "execution_count": 14,
     "metadata": {},
     "output_type": "execute_result"
    }
   ],
   "execution_count": 14
  },
  {
   "metadata": {
    "ExecuteTime": {
     "end_time": "2024-05-28T22:32:58.544976Z",
     "start_time": "2024-05-28T22:32:58.542260Z"
    }
   },
   "cell_type": "code",
   "source": [
    "\n",
    "sine0 = np.linalg.norm(np.cross(np.repeat(normals[0:1], k, axis=0), normals[nn[0]]), axis=1) / (np.linalg.norm(normals[0]) * np.linalg.norm(normals[nn[0]], axis=1))"
   ],
   "id": "1dd2c39672b164d2",
   "outputs": [],
   "execution_count": 15
  },
  {
   "metadata": {
    "ExecuteTime": {
     "end_time": "2024-05-28T22:32:58.820549Z",
     "start_time": "2024-05-28T22:32:58.817915Z"
    }
   },
   "cell_type": "code",
   "source": "sine0.shape",
   "id": "24ff8dd04b80887e",
   "outputs": [
    {
     "data": {
      "text/plain": [
       "(30,)"
      ]
     },
     "execution_count": 16,
     "metadata": {},
     "output_type": "execute_result"
    }
   ],
   "execution_count": 16
  },
  {
   "metadata": {
    "ExecuteTime": {
     "end_time": "2024-05-28T22:32:59.028671Z",
     "start_time": "2024-05-28T22:32:59.025177Z"
    }
   },
   "cell_type": "code",
   "source": "cosine[0].shape",
   "id": "2464897f229eb1c2",
   "outputs": [
    {
     "data": {
      "text/plain": [
       "(30,)"
      ]
     },
     "execution_count": 17,
     "metadata": {},
     "output_type": "execute_result"
    }
   ],
   "execution_count": 17
  },
  {
   "metadata": {
    "ExecuteTime": {
     "end_time": "2024-05-28T22:32:59.212693Z",
     "start_time": "2024-05-28T22:32:59.210513Z"
    }
   },
   "cell_type": "code",
   "source": "angle0 = np.arctan2(sine0, cosine[0])",
   "id": "6a0c867a7f7fefec",
   "outputs": [],
   "execution_count": 18
  },
  {
   "metadata": {
    "ExecuteTime": {
     "end_time": "2024-05-28T22:32:59.727272Z",
     "start_time": "2024-05-28T22:32:59.724263Z"
    }
   },
   "cell_type": "code",
   "source": "angle0",
   "id": "4ae814f1525e9460",
   "outputs": [
    {
     "data": {
      "text/plain": [
       "array([0.        , 0.        , 0.01532337, 0.01858996, 0.        ,\n",
       "       0.01532337, 0.01532337, 0.        , 3.12072127, 0.01532337,\n",
       "       3.09386409, 0.03512225, 0.03306361, 0.03454636, 0.05589274,\n",
       "       0.05900688, 0.03315942, 0.03585439, 0.0544148 , 0.05746518,\n",
       "       0.05725234, 0.08227554, 0.03585439, 3.09176034, 3.09902265,\n",
       "       3.06035234, 3.06703197, 3.05856673, 3.07282282, 0.05098715])"
      ]
     },
     "execution_count": 19,
     "metadata": {},
     "output_type": "execute_result"
    }
   ],
   "execution_count": 19
  },
  {
   "metadata": {
    "ExecuteTime": {
     "end_time": "2024-05-28T22:33:01.304011Z",
     "start_time": "2024-05-28T22:33:01.300888Z"
    }
   },
   "cell_type": "code",
   "source": "angle[0]",
   "id": "25416e979861a510",
   "outputs": [
    {
     "data": {
      "text/plain": [
       "array([0.        , 0.        , 0.01532337, 0.01858996, 0.        ,\n",
       "       0.01532337, 0.01532337, 0.        , 3.12072127, 0.01532337,\n",
       "       3.09386409, 0.03512225, 0.03306361, 0.03454636, 0.05589274,\n",
       "       0.05900688, 0.03315942, 0.03585439, 0.0544148 , 0.05746518,\n",
       "       0.05725234, 0.08227554, 0.03585439, 3.09176034, 3.09902265,\n",
       "       3.06035234, 3.06703197, 3.05856673, 3.07282282, 0.05098715])"
      ]
     },
     "execution_count": 20,
     "metadata": {},
     "output_type": "execute_result"
    }
   ],
   "execution_count": 20
  },
  {
   "metadata": {
    "ExecuteTime": {
     "end_time": "2024-05-28T22:33:01.561958Z",
     "start_time": "2024-05-28T22:33:01.558558Z"
    }
   },
   "cell_type": "code",
   "source": [
    "# check all close\n",
    "np.allclose(angle0, angle[0])"
   ],
   "id": "d73c70ef6ed35b8e",
   "outputs": [
    {
     "data": {
      "text/plain": [
       "True"
      ]
     },
     "execution_count": 21,
     "metadata": {},
     "output_type": "execute_result"
    }
   ],
   "execution_count": 21
  },
  {
   "metadata": {
    "ExecuteTime": {
     "end_time": "2024-05-28T22:33:07.647548Z",
     "start_time": "2024-05-28T22:33:07.523433Z"
    }
   },
   "cell_type": "code",
   "source": "angle.min()",
   "id": "1510641dffd4de5f",
   "outputs": [
    {
     "data": {
      "text/plain": [
       "0.0"
      ]
     },
     "execution_count": 22,
     "metadata": {},
     "output_type": "execute_result"
    }
   ],
   "execution_count": 22
  },
  {
   "metadata": {
    "ExecuteTime": {
     "end_time": "2024-05-28T22:33:09.240970Z",
     "start_time": "2024-05-28T22:33:07.748649Z"
    }
   },
   "cell_type": "code",
   "source": [
    "# v is number of points in which both points are visible\n",
    "v = np.zeros((len(points), k))\n",
    "for i in range(6):\n",
    "    mask_i = mask[i]\n",
    "    v += mask_i[nn] * mask_i[:, None]"
   ],
   "id": "5a1e649d7efcc864",
   "outputs": [],
   "execution_count": 23
  },
  {
   "metadata": {
    "ExecuteTime": {
     "end_time": "2024-05-28T22:33:12.687404Z",
     "start_time": "2024-05-28T22:33:12.684103Z"
    }
   },
   "cell_type": "code",
   "source": "v.shape",
   "id": "8c9e01673729d933",
   "outputs": [
    {
     "data": {
      "text/plain": [
       "(2082527, 30)"
      ]
     },
     "execution_count": 24,
     "metadata": {},
     "output_type": "execute_result"
    }
   ],
   "execution_count": 24
  },
  {
   "metadata": {
    "ExecuteTime": {
     "end_time": "2024-05-28T20:22:33.884977Z",
     "start_time": "2024-05-28T20:22:33.875414Z"
    }
   },
   "cell_type": "code",
   "source": "L = 6",
   "id": "1c476730d5b7c839",
   "outputs": [],
   "execution_count": 47
  },
  {
   "metadata": {},
   "cell_type": "code",
   "outputs": [],
   "execution_count": null,
   "source": [
    "o = np.zeros((len(points), k))\n",
    "for i in range(6):\n",
    "    mask_i = mask[i]\n",
    "    o += mask_i[nn] * mask_i[:, None] * angle"
   ],
   "id": "302f9caa58f6a009"
  },
  {
   "metadata": {
    "ExecuteTime": {
     "end_time": "2024-05-28T23:21:05.373899Z",
     "start_time": "2024-05-28T23:21:05.368035Z"
    }
   },
   "cell_type": "code",
   "source": [
    "import numpy as np\n",
    "from scipy.ndimage import generic_filter\n",
    "\n",
    "def create_feature_tensor(image, t=5):\n",
    "    S = image.shape[0]\n",
    "    def count_k(local_area, k):\n",
    "        return np.sum(local_area == k)\n",
    "    \n",
    "    N = image.max() + 1\n",
    "    result = np.zeros((S, S, N), dtype=np.int32)\n",
    "\n",
    "    for k in np.unique(image):\n",
    "        result[:, :, k] = generic_filter(image, count_k, footprint=np.ones((t, t)), mode='constant', cval=np.nan, extra_arguments=(k,))\n",
    "        \n",
    "    return result"
   ],
   "id": "6a4661345d609a4f",
   "outputs": [],
   "execution_count": 81
  },
  {
   "metadata": {
    "ExecuteTime": {
     "end_time": "2024-05-28T23:21:06.087955Z",
     "start_time": "2024-05-28T23:21:06.083104Z"
    }
   },
   "cell_type": "code",
   "source": [
    "\n",
    "# Example\n",
    "S, N = 10, 4  # Define size of grid and range of values\n",
    "np.random.seed(0)  # For reproducibility\n",
    "matrix = np.random.randint(0, N, size=(S, S))  # Random matrix\n",
    "feature_tensor = create_feature_tensor(matrix)\n",
    "print(feature_tensor.shape)  # Should be (S, S, N)\n"
   ],
   "id": "cfc12deff313e8f5",
   "outputs": [
    {
     "name": "stdout",
     "output_type": "stream",
     "text": [
      "(10, 10, 4)\n"
     ]
    }
   ],
   "execution_count": 82
  },
  {
   "metadata": {
    "ExecuteTime": {
     "end_time": "2024-05-28T23:21:06.641565Z",
     "start_time": "2024-05-28T23:21:06.638283Z"
    }
   },
   "cell_type": "code",
   "source": "matrix",
   "id": "92ee15cac1c4deb2",
   "outputs": [
    {
     "data": {
      "text/plain": [
       "array([[0, 3, 1, 0, 3, 3, 3, 3, 1, 3],\n",
       "       [1, 2, 0, 3, 2, 0, 0, 0, 2, 1],\n",
       "       [2, 3, 3, 2, 0, 1, 1, 1, 1, 0],\n",
       "       [1, 0, 3, 0, 3, 1, 2, 3, 3, 0],\n",
       "       [2, 3, 0, 1, 3, 1, 3, 3, 2, 3],\n",
       "       [0, 1, 1, 1, 3, 0, 3, 2, 0, 3],\n",
       "       [3, 2, 3, 2, 3, 0, 2, 0, 0, 0],\n",
       "       [1, 1, 2, 0, 0, 1, 3, 0, 1, 2],\n",
       "       [2, 3, 0, 1, 1, 3, 1, 1, 3, 2],\n",
       "       [3, 3, 2, 2, 3, 0, 2, 3, 1, 0]])"
      ]
     },
     "execution_count": 83,
     "metadata": {},
     "output_type": "execute_result"
    }
   ],
   "execution_count": 83
  },
  {
   "metadata": {
    "ExecuteTime": {
     "end_time": "2024-05-28T23:21:07.393155Z",
     "start_time": "2024-05-28T23:21:07.390522Z"
    }
   },
   "cell_type": "code",
   "source": "feature_tensor[2,2]",
   "id": "f782dadb686cc080",
   "outputs": [
    {
     "data": {
      "text/plain": [
       "array([7, 4, 5, 9], dtype=int32)"
      ]
     },
     "execution_count": 84,
     "metadata": {},
     "output_type": "execute_result"
    }
   ],
   "execution_count": 84
  },
  {
   "metadata": {
    "ExecuteTime": {
     "end_time": "2024-05-28T23:18:54.991805Z",
     "start_time": "2024-05-28T23:18:54.990442Z"
    }
   },
   "cell_type": "code",
   "source": "",
   "id": "a0fe170b0973a8d5",
   "outputs": [],
   "execution_count": 80
  },
  {
   "metadata": {},
   "cell_type": "code",
   "outputs": [],
   "execution_count": null,
   "source": "",
   "id": "735a3934f4fea8ec"
  }
 ],
 "metadata": {
  "kernelspec": {
   "display_name": "Python 3",
   "language": "python",
   "name": "python3"
  },
  "language_info": {
   "codemirror_mode": {
    "name": "ipython",
    "version": 2
   },
   "file_extension": ".py",
   "mimetype": "text/x-python",
   "name": "python",
   "nbconvert_exporter": "python",
   "pygments_lexer": "ipython2",
   "version": "2.7.6"
  }
 },
 "nbformat": 4,
 "nbformat_minor": 5
}
